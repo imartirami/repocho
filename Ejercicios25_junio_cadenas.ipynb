{
  "nbformat": 4,
  "nbformat_minor": 0,
  "metadata": {
    "colab": {
      "provenance": [],
      "authorship_tag": "ABX9TyPqc2GIdTgoep0FVoDCT5oj",
      "include_colab_link": true
    },
    "kernelspec": {
      "name": "python3",
      "display_name": "Python 3"
    },
    "language_info": {
      "name": "python"
    }
  },
  "cells": [
    {
      "cell_type": "markdown",
      "metadata": {
        "id": "view-in-github",
        "colab_type": "text"
      },
      "source": [
        "<a href=\"https://colab.research.google.com/github/imartirami/repocho/blob/main/Ejercicios25_junio_cadenas.ipynb\" target=\"_parent\"><img src=\"https://colab.research.google.com/assets/colab-badge.svg\" alt=\"Open In Colab\"/></a>"
      ]
    },
    {
      "cell_type": "code",
      "source": [],
      "metadata": {
        "id": "XaLBAOLdShZW"
      },
      "execution_count": null,
      "outputs": []
    },
    {
      "cell_type": "markdown",
      "source": [
        "# EJERCICIOS 25 JUNIO"
      ],
      "metadata": {
        "id": "OIOr5R6-yXcf"
      }
    },
    {
      "cell_type": "code",
      "source": [
        "# Exer 1 - CADENAS\n",
        "cadena2 = \"Barcelona\"\n",
        "cadena3 = \"\"\n",
        "\n",
        "for caracter in cadena2:\n",
        "  cadena3 = caracter + cadena3\n",
        "\n",
        "print(cadena3)\n",
        "\n"
      ],
      "metadata": {
        "colab": {
          "base_uri": "https://localhost:8080/"
        },
        "id": "CdOikfYbyZcM",
        "outputId": "3b4cf410-4277-49ad-aefa-47c380901aae"
      },
      "execution_count": null,
      "outputs": [
        {
          "output_type": "stream",
          "name": "stdout",
          "text": [
            "anolecraB\n"
          ]
        }
      ]
    },
    {
      "cell_type": "code",
      "source": [
        "# Exer 2 - CADENAS\n",
        "\n",
        "cadena2 = \"Barcelona\"\n",
        "numeroa = 0\n",
        "\n",
        "for lletra in range(len(cadena2)):\n",
        "  if cadena2[lletra] == \"a\":\n",
        "    numeroa = numeroa +1\n",
        "\n",
        "print(numeroa)\n",
        "\n"
      ],
      "metadata": {
        "colab": {
          "base_uri": "https://localhost:8080/"
        },
        "id": "5v9BZ7i64Gd7",
        "outputId": "f526ed07-07ee-44a4-9374-f9ab212935dd"
      },
      "execution_count": null,
      "outputs": [
        {
          "output_type": "stream",
          "name": "stdout",
          "text": [
            "2\n"
          ]
        }
      ]
    },
    {
      "cell_type": "code",
      "source": [
        "# Exer 2 - CADENAS\n",
        "\n",
        "cadena2 = \"Barcelona\"\n",
        "numeroa = 0\n",
        "\n",
        "for lletra in range(len(cadena2)):\n",
        "\n",
        "  print(lletra, cadena2[lletra])\n"
      ],
      "metadata": {
        "colab": {
          "base_uri": "https://localhost:8080/"
        },
        "id": "YyGFiMmt4Oac",
        "outputId": "11bf380d-49e4-45f5-c9b4-5338523fb149"
      },
      "execution_count": null,
      "outputs": [
        {
          "output_type": "stream",
          "name": "stdout",
          "text": [
            "0 B\n",
            "1 a\n",
            "2 r\n",
            "3 c\n",
            "4 e\n",
            "5 l\n",
            "6 o\n",
            "7 n\n",
            "8 a\n"
          ]
        }
      ]
    },
    {
      "cell_type": "code",
      "source": [
        "paraula = input(\"Fica una paraula \")\n",
        "\n",
        "for posicio in range(len(paraula)):\n",
        "  print(paraula)\n"
      ],
      "metadata": {
        "colab": {
          "base_uri": "https://localhost:8080/"
        },
        "id": "dyrfo-mj5AlM",
        "outputId": "35e0a710-7b6a-450b-dd9b-17cfadd8e6fe"
      },
      "execution_count": null,
      "outputs": [
        {
          "output_type": "stream",
          "name": "stdout",
          "text": [
            "Fica una paraula hola\n",
            "hola\n",
            "hola\n",
            "hola\n",
            "hola\n"
          ]
        }
      ]
    },
    {
      "cell_type": "code",
      "source": [
        "c1 = input(\"Introdueix una primera cadena \")\n",
        "c2 = input(\"Introdueix una segona cadena \")\n",
        "\n",
        "if c1 in c2:\n",
        "  print(True)\n",
        "else:\n",
        "  print(False)\n",
        "\n"
      ],
      "metadata": {
        "colab": {
          "base_uri": "https://localhost:8080/"
        },
        "id": "45oCqznh7HJc",
        "outputId": "0c47dec3-ac9c-4f11-8eaa-e44cdd4c2f17"
      },
      "execution_count": null,
      "outputs": [
        {
          "output_type": "stream",
          "name": "stdout",
          "text": [
            "Introdueix una primera cadena Ho\n",
            "Introdueix una segona cadena Hola\n",
            "<class 'type'>\n"
          ]
        }
      ]
    },
    {
      "cell_type": "code",
      "source": [
        "cadena5 = \"Fedora\"\n",
        "\n",
        "# Metode 1\n",
        "\n",
        "contador = 0\n",
        "while contador < len(cadena5):\n",
        "    cadena6 = \"\"\n",
        "\n",
        "    for letra in cadena5:\n",
        "      cadena6 = cadena6 + letra\n",
        "\n",
        "      print(cadena6)\n",
        "    print('\\n')\n",
        "    contador += 1\n",
        "\n",
        "# Metode 2\n",
        "print(\"************************\")\n",
        "for vegades in range(6):\n",
        "    cadena6 = \"\"\n",
        "\n",
        "    for letra in cadena5:\n",
        "      cadena6 = cadena6 + letra\n",
        "\n",
        "      print(cadena6)\n",
        "    print('\\n')\n",
        "    contador += 1"
      ],
      "metadata": {
        "colab": {
          "base_uri": "https://localhost:8080/"
        },
        "id": "41a8eSI5_Bzb",
        "outputId": "15368c82-8635-45cb-f176-284bfec60017"
      },
      "execution_count": null,
      "outputs": [
        {
          "output_type": "stream",
          "name": "stdout",
          "text": [
            "F\n",
            "Fe\n",
            "Fed\n",
            "Fedo\n",
            "Fedor\n",
            "Fedora\n",
            "\n",
            "\n",
            "F\n",
            "Fe\n",
            "Fed\n",
            "Fedo\n",
            "Fedor\n",
            "Fedora\n",
            "\n",
            "\n",
            "F\n",
            "Fe\n",
            "Fed\n",
            "Fedo\n",
            "Fedor\n",
            "Fedora\n",
            "\n",
            "\n",
            "F\n",
            "Fe\n",
            "Fed\n",
            "Fedo\n",
            "Fedor\n",
            "Fedora\n",
            "\n",
            "\n",
            "F\n",
            "Fe\n",
            "Fed\n",
            "Fedo\n",
            "Fedor\n",
            "Fedora\n",
            "\n",
            "\n",
            "F\n",
            "Fe\n",
            "Fed\n",
            "Fedo\n",
            "Fedor\n",
            "Fedora\n",
            "\n",
            "\n",
            "************************\n",
            "F\n",
            "Fe\n",
            "Fed\n",
            "Fedo\n",
            "Fedor\n",
            "Fedora\n",
            "\n",
            "\n",
            "F\n",
            "Fe\n",
            "Fed\n",
            "Fedo\n",
            "Fedor\n",
            "Fedora\n",
            "\n",
            "\n",
            "F\n",
            "Fe\n",
            "Fed\n",
            "Fedo\n",
            "Fedor\n",
            "Fedora\n",
            "\n",
            "\n",
            "F\n",
            "Fe\n",
            "Fed\n",
            "Fedo\n",
            "Fedor\n",
            "Fedora\n",
            "\n",
            "\n",
            "F\n",
            "Fe\n",
            "Fed\n",
            "Fedo\n",
            "Fedor\n",
            "Fedora\n",
            "\n",
            "\n",
            "F\n",
            "Fe\n",
            "Fed\n",
            "Fedo\n",
            "Fedor\n",
            "Fedora\n",
            "\n",
            "\n"
          ]
        }
      ]
    },
    {
      "cell_type": "code",
      "source": [
        "long1 = \"diccionario\"\n",
        "long2 = \"\"\n",
        "\n",
        "for letra in range(len(long1)-2):\n",
        "  long2 = (long1[letra:letra+3])\n",
        "\n",
        "  print(long2)"
      ],
      "metadata": {
        "colab": {
          "base_uri": "https://localhost:8080/"
        },
        "id": "iVmeCqqkBYKL",
        "outputId": "55a22747-7f82-4e8e-cbe7-ee8fa1543a5b"
      },
      "execution_count": null,
      "outputs": [
        {
          "output_type": "stream",
          "name": "stdout",
          "text": [
            "dic\n",
            "icc\n",
            "cci\n",
            "cio\n",
            "ion\n",
            "ona\n",
            "nar\n",
            "ari\n",
            "rio\n"
          ]
        }
      ]
    },
    {
      "cell_type": "code",
      "source": [],
      "metadata": {
        "id": "uTr31DEMDxMa"
      },
      "execution_count": null,
      "outputs": []
    }
  ]
}