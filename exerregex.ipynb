{
  "nbformat": 4,
  "nbformat_minor": 0,
  "metadata": {
    "colab": {
      "provenance": [],
      "authorship_tag": "ABX9TyMapfEaQTEvo0e9LRy2Esdi",
      "include_colab_link": true
    },
    "kernelspec": {
      "name": "python3",
      "display_name": "Python 3"
    },
    "language_info": {
      "name": "python"
    }
  },
  "cells": [
    {
      "cell_type": "markdown",
      "metadata": {
        "id": "view-in-github",
        "colab_type": "text"
      },
      "source": [
        "<a href=\"https://colab.research.google.com/github/imartirami/repocho/blob/main/exerregex.ipynb\" target=\"_parent\"><img src=\"https://colab.research.google.com/assets/colab-badge.svg\" alt=\"Open In Colab\"/></a>"
      ]
    },
    {
      "cell_type": "markdown",
      "source": [
        "## Exercicis REGEX"
      ],
      "metadata": {
        "id": "4Uqu4wh9VLiv"
      }
    },
    {
      "cell_type": "code",
      "source": [
        "# Ejercicios 1\n",
        "\n",
        "# Entrada: hola@test.com, josep.puigdemont@company.cat, marta123@xyz.org, persona@.\n",
        "# [a-zA-Z0-9\\_\\.]+@[0-9a-zA-Z]+\\.[a-z]{3}+|[a-zA-Z]+@\n",
        "\n",
        "# Ejercicio 2\n",
        "# (93)2541700, (952)253228, (93)2177017, (958)233517.\n",
        "\n",
        "# \\(93\\)[0-9]+\n",
        "# [0-9]{7}\n",
        "\n",
        "# Exercici 3: Identificació de paraules amb accents\n",
        "# Objectiu: Extrau totes les paraules que contenen accents en una frase.\n",
        "# Entrada: Hola, com estàs? Avui és un dia solejat i l'hora és les 10:30 del matí.\n",
        "\n",
        "# [áéíóúàèìòùÁÉÍÓÚÀÈÌÒÛ]+[a-z]+|[a-z]+[áéíóúàèìòùÁÉÍÓÚÀÈÌÒÛ]+[a-z]+|[a-z]+[áéíóúàèìòùÁÉÍÓÚÀÈÌÒÛ]+\n",
        "# * el asterísco funciona como decir 0 o más caracteres\n",
        "# sol2 : [a-z]*[áéíóúàèìòùÁÉÍÓÚÀÈÌÒÛ]{1}[a-z]*\n",
        "\n",
        "# Exercici 4: Validació de codis postals\n",
        "# Objectiu: Escriu un regex per validar codis postals de 5 dígits espanyols.\n",
        "# Entrada: 08001, 08080, 12345, abcd5, 5678.\n",
        "\n",
        "# 0[0-9]+{5}\n",
        "\n",
        "# Exercici 5: Extracció de preus en format decimal\n",
        "# Objectiu: Escriu un regex per trobar preus amb decimals en una cadena de text.\n",
        "# Entrada: Els preus dels productes són 10.99€, 20€, 100.50€, i 300.00€.\n",
        "\n",
        "# [0-9]*[\\.]{1}[0-9]*\n",
        "\n",
        "# Exercici 6: Validació de dates en format DD/MM/AAAA\n",
        "# Objectiu: Escriu un regex per validar dates en format DD/MM/AAAA.\n",
        "# Entrada: 25/12/2021, 01/01/1999, 31/02/2020, 30/04/2020.\n",
        "\n",
        "# [/0-9]+ no valida fecha [0-9]{2}\\/[0-1][0-2]+\\/[0-9]{4}\n",
        "\n",
        "# Exercici 7: Detecció de URLs\n",
        "# Objectiu: Escriu un regex per extreure URLs d'una cadena de text.\n",
        "# Entrada: Visita https://www.example.com per més informació o http://test.org. També\n",
        "# pots anar a www.google.com.\n",
        "\n",
        "# htt[0-9a-z\\.:/]+\n",
        "\n",
        "# Exercici 8: Validació de números de telèfon mòbils espanyols\n",
        "# Objectiu: Escriu un regex per validar números de telèfon mòbil que comencin amb 6 o 7 i\n",
        "# tinguin 9 dígits.\n",
        "# Entrada: 612345678, 711234567, 812345678.\n",
        "\n",
        "# 6[0-9]{8}|7[0-9]{8}\n",
        "\n",
        "\n",
        "# Exercici 9: Extracció de noms propis\n",
        "# Objectiu: Escriu un regex per extreure noms propis d'una frase (inicien amb majúscula).\n",
        "# Entrada: Maria va anar a Barcelona amb Josep i Anna.\n",
        "\n",
        "#\n",
        "\n",
        "\n"
      ],
      "metadata": {
        "id": "TP54kA4WVNye"
      },
      "execution_count": null,
      "outputs": []
    }
  ]
}