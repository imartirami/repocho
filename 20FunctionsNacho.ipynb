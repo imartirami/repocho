{
  "nbformat": 4,
  "nbformat_minor": 0,
  "metadata": {
    "colab": {
      "provenance": [],
      "authorship_tag": "ABX9TyMKHSm6F6hXO+SrSWG8IvMn",
      "include_colab_link": true
    },
    "kernelspec": {
      "name": "python3",
      "display_name": "Python 3"
    },
    "language_info": {
      "name": "python"
    }
  },
  "cells": [
    {
      "cell_type": "markdown",
      "metadata": {
        "id": "view-in-github",
        "colab_type": "text"
      },
      "source": [
        "<a href=\"https://colab.research.google.com/github/imartirami/repocho/blob/main/20FunctionsNacho.ipynb\" target=\"_parent\"><img src=\"https://colab.research.google.com/assets/colab-badge.svg\" alt=\"Open In Colab\"/></a>"
      ]
    },
    {
      "cell_type": "markdown",
      "source": [
        "## 20 FUNCTIONS"
      ],
      "metadata": {
        "id": "so6XOZIRPSz1"
      }
    },
    {
      "cell_type": "code",
      "execution_count": null,
      "metadata": {
        "id": "rNUXqgKFO7fB"
      },
      "outputs": [],
      "source": [
        "# 1. Funció que pren com a paràmetre una llista de números i retorna una altra llista ordenada.\n",
        "\n",
        "\n",
        "def ordena(lista):\n",
        "  temp = lista.copy()\n",
        "  temp.sort()\n",
        "  return temp\n",
        "\n",
        "lista = [3,2,4,1,6]\n",
        "\n",
        "print(ordena(lista))\n",
        "\n",
        "print(lista)\n",
        "\n",
        "# 2. Funció que pren com a paràmetre una llista de números i retorna la suma dels seus elements.\n",
        "\n",
        "def suma(lista):\n",
        "  suma = 0\n",
        "  for i in lista:\n",
        "    suma = suma + i\n",
        "  return suma\n",
        "\n",
        "print(suma(lista))\n",
        "\n",
        "# 3.  Funció que pren com a paràmetre una llista de números i retorna la suma dels quadrats dels seus elements.\n",
        "\n",
        "def suma2(lista):\n",
        "  suma = 0\n",
        "  for i in lista:\n",
        "    suma = suma + i**2\n",
        "  return suma\n",
        "\n",
        "print(suma2(lista))\n",
        "\n",
        "# 4. Funció que pren com a paràmetre una llista de números i retorna la suma dels cubs dels seus elements.\n",
        "\n",
        "def suma3(lista):\n",
        "  suma = 0\n",
        "  for i in lista:\n",
        "    suma = suma + i**3\n",
        "  return suma\n",
        "\n",
        "print(suma3(lista))\n",
        "\n",
        "# 5. Funció que pren com a paràmetre una llista de números i retorna el seu valor mínim.\n",
        "\n",
        "def minlista(lista):\n",
        "  '''\n",
        "  valor_max = 0   # aquest valor ni el fa servir\n",
        "  for i in lista:  # trobem el valor màxim tantes vegades com iteracions.\\\n",
        "  Amb una vegada n'hi ha prou !!!\n",
        "\n",
        "    valor_max = max(lista)\n",
        "  '''\n",
        "  valor_min = min(lista)\n",
        "  return valor_min\n",
        "\n",
        "print(minlista(lista))\n",
        "\n",
        "# 6. Funció que pren com a paràmetre una llista de números i retorna el seu valor màxim\n",
        "\n",
        "def maxlista(lista):\n",
        "  '''\n",
        "  valor_max = 0   # aquest valor ni el fa servir\n",
        "  for i in lista:  # trobem el valor màxim tantes vegades com iteracions.\\\n",
        "  Amb una vegada n'hi ha prou !!!\n",
        "\n",
        "    valor_max = max(lista)\n",
        "  '''\n",
        "  valor_max = max(lista)\n",
        "  return valor_max\n",
        "\n",
        "print(maxlista(lista))\n",
        "\n",
        "# 7. Funció que pren com a paràmetre una llista de números i retorna la llista en ordre invertit.\n",
        "\n",
        "def rev_list(lista):\n",
        "  #  listarev = lista.reverse() No te sentit perque la funcio no te return.\n",
        "  lista.reverse()\n",
        "  return lista\n",
        "\n",
        "print(rev_list(lista))\n",
        "\n",
        "# 8. Funció que pren com a paràmetre una llista de números i retorna una altra llista amb els elements en posició parell.\n",
        "\n",
        "def par_list(lista):\n",
        "  temp_list = [0]\n",
        "  for i in lista:\n",
        "    if i %2 == 0:\n",
        "      temp_list.append(i)\n",
        "\n",
        "    return(temp_list)\n",
        "\n",
        "print(par_list(lista))\n",
        "\n",
        "# 10. Funció que pren com a paràmetre una llista de números i retorna una altra llista amb el número de dígits de cada element.\n",
        "\n",
        "# 11. Funció que pren com a paràmetre una llista de cadena i retorna una altra llista amb la longitud de cadascuna de les cadenes que formen la llista:\n",
        "\n",
        "def longitud ('hola'):"
      ]
    },
    {
      "cell_type": "code",
      "source": [],
      "metadata": {
        "id": "bpgdG9B5PVOd"
      },
      "execution_count": null,
      "outputs": []
    }
  ]
}